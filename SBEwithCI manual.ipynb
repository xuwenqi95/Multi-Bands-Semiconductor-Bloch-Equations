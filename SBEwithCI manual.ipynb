{
 "cells": [
  {
   "cell_type": "markdown",
   "id": "27515925",
   "metadata": {},
   "source": [
    "# Semiconductor Bloch Equations with Coulomb Interaction"
   ]
  },
  {
   "cell_type": "markdown",
   "id": "0cb166cd",
   "metadata": {},
   "source": [
    "## Abstract"
   ]
  },
  {
   "cell_type": "markdown",
   "id": "65a91d57",
   "metadata": {},
   "source": [
    "This python module **SBEwithCI.py** is developed for simulating exciton effect on optical response in solid with Semiconductor Bloch Equations (SBEs). And it was used to reproduce the result in ref[<sup>1</sup>](#refer-anchor-1) to test the reliability."
   ]
  },
  {
   "cell_type": "markdown",
   "id": "54775fe7",
   "metadata": {},
   "source": [
    "## Quick Start"
   ]
  },
  {
   "cell_type": "markdown",
   "id": "cc6dfcde",
   "metadata": {},
   "source": [
    "To use this programe, you should first create your own test py file such as **test.py** and import the **Numpy, Scipy, Math** module. "
   ]
  },
  {
   "cell_type": "code",
   "execution_count": 9,
   "id": "adad57b3",
   "metadata": {},
   "outputs": [],
   "source": [
    "import numpy as np\n",
    "import scipy\n",
    "from math import sqrt, log"
   ]
  },
  {
   "cell_type": "markdown",
   "id": "236ac586",
   "metadata": {},
   "source": [
    "And we also need to import the *SBE class* from **SBEwithCI** module."
   ]
  },
  {
   "cell_type": "code",
   "execution_count": 11,
   "id": "30e53623",
   "metadata": {},
   "outputs": [],
   "source": [
    "from SBEwithCI import SBE"
   ]
  },
  {
   "cell_type": "markdown",
   "id": "e0eaed95",
   "metadata": {},
   "source": [
    "To make the input of parameters easy, two functions **Matplot, loadband** are provided."
   ]
  },
  {
   "cell_type": "code",
   "execution_count": 13,
   "id": "7ed22e80",
   "metadata": {},
   "outputs": [],
   "source": [
    "from SBEwithCI import Matplot, loadband"
   ]
  },
  {
   "cell_type": "markdown",
   "id": "2efb0238",
   "metadata": {},
   "source": [
    "Then we could start to imput the parameters for simulation, all the value in the simulation must be in atomic unit.\n",
    "Following code is a simple example, please run it to check if your enviroment is correct."
   ]
  },
  {
   "cell_type": "code",
   "execution_count": null,
   "id": "cc2925b6",
   "metadata": {},
   "outputs": [],
   "source": [
    "import numpy as np\n",
    "import scipy\n",
    "from matplotlib import pyplot as plt\n",
    "from math import sqrt\n",
    "from SBEwithCI import SBE, loadband, Matplot\n",
    "import time as tp\n",
    "\n",
    "\n",
    "\n",
    "\n",
    "start=tp.time()\n",
    "\n",
    "pi=scipy.constants.pi\n",
    "d=9.32\n",
    "t=np.linspace(0,41*20,10000)\n",
    "k=np.linspace(-pi/d, pi/d,201)    \n",
    "dk=k[1]-k[0]\n",
    "\n",
    "\n",
    "#set electric field 0\n",
    "w1=108/27.21       #frequency\n",
    "tau=41*0.2*sqrt(2) #pulse duration\n",
    "fi=0               #phase\n",
    "E0=2e8             #field strength\n",
    "E0field=np.exp(-4*np.log(2)*((t-41*6)/tau)**2)*np.cos(w1*(t-41*6)+fi)/5.14e11*E0  #field 0\n",
    "\n",
    "#set electric field 1 (optional)\n",
    "w2=0.075         #frequency\n",
    "tau1=41*2*sqrt(2) #pulse duration\n",
    "fi1=0             #phase\n",
    "E1=0          #field strength\n",
    "delay=0          #delay between two pulses\n",
    "E1field=np.exp(-4*np.log(2)*((t-41*6-delay)/tau1)**2)*np.cos(w2*(t-41*6-delay)+fi1)/5.14e11*E1 #field 1\n",
    "\n",
    "#set band structure\n",
    "VB1=np.zeros(k.size)\n",
    "VB=np.array([VB1])\n",
    "\n",
    "CB1=loadband(k, 'sio2\\\\CB1.txt')\n",
    "CB2=loadband(k, 'sio2\\\\CB2.txt')\n",
    "CB3=loadband(k, 'sio2\\\\CB3.txt')\n",
    "CB4=loadband(k, 'sio2\\\\CB4.txt')     #load the band from txt file   \n",
    "CB=np.array([CB1,CB2,CB3,CB4])/27.21 #put the band in a matrix\n",
    "\n",
    "Ek=np.vstack((VB,CB))                #create a matrix include all the energy band\n",
    "\n",
    "\n",
    "\n",
    "\n",
    "#set mapping matrix\n",
    "MP=np.linspace(0,24,25,dtype=int).reshape((5,5))\n",
    "\n",
    "#set transition dipole matrix\n",
    "dipole1=np.ones(k.size)*0.1\n",
    "dipole=np.array([dipole1 for i in range(25)])     #dipole should be a n^2 by k matrix ,n is the number of energy bands\n",
    "\n",
    "dipole[[0,6,12,18,24]]=np.zeros(k.size)\n",
    "dipole[[2,10,14,22,4,20,8,16]]=np.zeros(k.size)\n",
    "\n",
    "dipole[[19,23]]=10*dipole1\n",
    "dipole[[9,21]]=5*dipole1\n",
    "dipole[[3,15]]=1.35*dipole1\n",
    "dipole[[7,11]]=20*dipole1\n",
    "dipole[[13,17]]=1*dipole1\n",
    "\n",
    "\n",
    "\n",
    "#set dephasing time\n",
    "T2=41*0.85 \n",
    "T1=41*0.85\n",
    "\n",
    "\n",
    "#calculate energy difference and dephasing term (for saving time) \n",
    "ddt=np.array([k*(0+0j) for i in range(25)])\n",
    "for i in range(len(Ek)):\n",
    "    for j in range(len(Ek)):\n",
    "        if i==j:\n",
    "            pass\n",
    "        else:\n",
    "            ddt[MP[i,j]]=Ek[j]-Ek[i]-1j/T2\n",
    "\n",
    "\n",
    "#set coulomb potential\n",
    "Vkq=np.ones((k.size,k.size))*(0+0j)\n",
    "V0=1.8\n",
    "for p in range(k.size):\n",
    "    Vkq[p]=V0*dk/2/pi*2*scipy.special.kn(0,np.abs(k[p]-k))   #kn is modified Bessel function of the second kind\n",
    "Vkq[np.diag_indices_from(Vkq)]=0+0j\n",
    "\n",
    "\n",
    "\n",
    "\n",
    "#set filter for FFT\n",
    "gauss=np.exp(-4*np.log(2)*((t-41*10)/10/41)**12)     \n",
    "\n",
    "SBEg=SBE(d,VB,CB,ddt,dipole,k,E0field,E1field,T2,T1,t,Vkq)  #create a SBE object\n",
    "SBEg.solve()                                                #solve the PDE \n",
    "SBEg.calculate(gauss)                                       #calculate the P(t),J(t),d(t),P(ω)，J(ω),d(ω), and absorption spectrum\n",
    "SBEg.showEfield(rangex=(80,130))                            #plot the electric field in time and frequency, rangex is the range of energy (eV)\n",
    "SBEg.showEnergy()                                           #plot all the energy bands\n",
    "SBEg.plotelectrondensity(n=0,rangex=(5,7))                  #plot the electron/hole density dynamics on n-th band, rangex is the range of tiem (fs)\n",
    "SBEg.plotemission(rangex=(0,600))                           #plot P(t),J(t),P(ω)，J(ω),rangex is the range of energy (eV)\n",
    "SBEg.plotabsorption(rangex=(104,112),rangey=(0,-120))       #plot the absorption spectrum,rangex is the range of energy (eV)\n",
    "\n",
    "end=tp.time()\n",
    "print(end-start)"
   ]
  },
  {
   "cell_type": "markdown",
   "id": "7d35c23c",
   "metadata": {},
   "source": [
    "The running time for above code should be in 40s, and get the same results as shown in Figure 1.\n",
    "\n",
    "![Figure1](absorption.png)"
   ]
  },
  {
   "cell_type": "markdown",
   "id": "d2b38119",
   "metadata": {},
   "source": [
    "## Parameters Input"
   ]
  },
  {
   "cell_type": "markdown",
   "id": "a1a25332",
   "metadata": {},
   "source": [
    "IMPORTANT NOTE: When you create a new array in numpy, it is a row vector."
   ]
  },
  {
   "cell_type": "markdown",
   "id": "96098975",
   "metadata": {},
   "source": [
    "### Load Band Structure"
   ]
  },
  {
   "cell_type": "markdown",
   "id": "dcb6c09c",
   "metadata": {},
   "source": [
    "In the **SBEwithCI** module, the **loadband** function is provided to help you load the bandstructure from txt file. The txt file should have 2 column, first column is the k points and second one is the value of energy. The "
   ]
  },
  {
   "cell_type": "code",
   "execution_count": 1,
   "id": "9ee6c71e",
   "metadata": {},
   "outputs": [],
   "source": [
    "def loadband(k,filename):                                  \n",
    "    band=np.loadtxt(filename).T                            #load txt data\n",
    "    band[1]=savgol_filter(band[1],11,1)                    #smooth data\n",
    "    f=interpolate.interp1d(band[0],band[1])                #Interpolation for your setting k grid\n",
    "    newband=f(k)\n",
    "    return newband\n",
    "\n",
    "CB1=loadband(k,'bandstructure\\\\CB1.txt')                    #It will load the CB1 from your CB1.txt for your setting grid"
   ]
  },
  {
   "cell_type": "markdown",
   "id": "39685359",
   "metadata": {},
   "source": [
    "After you load all the energy band respectively, you should put them in Valence/Conduct band matrix. I recommend to put them in order of energy. Then create a matrix include all the energy bands."
   ]
  },
  {
   "cell_type": "code",
   "execution_count": null,
   "id": "8763d398",
   "metadata": {},
   "outputs": [],
   "source": [
    "VB=np.array([VB1,VB2,VB3,......])\n",
    "CB=np.array([CB1,CB2,CB3,......])\n",
    "Ek=np.vstack((VB,CB))"
   ]
  },
  {
   "cell_type": "markdown",
   "id": "84f8bfa2",
   "metadata": {},
   "source": [
    "### Transition Dipole Matrix （TDM）"
   ]
  },
  {
   "cell_type": "markdown",
   "id": "4b651b04",
   "metadata": {},
   "source": [
    "The TDM should have n*n rows and k-points columns.\n",
    "And the rule for the sequence is shown in following table. "
   ]
  },
  {
   "cell_type": "markdown",
   "id": "e75b08b9",
   "metadata": {},
   "source": [
    "Suppose that the system only have 3 energy bands.\n",
    "\n",
    "| Row in TDM | Assignment |\n",
    "|---|---|\n",
    "|Row1|Dipole for 1st band to 1st band|\n",
    "|Row2|Dipole for 1st band to 2nd band|\n",
    "|Row3|Dipole for 1st band to 3rd band|\n",
    "|Row4|Dipole for 2nd band to 1st band|\n",
    "|Row5|Dipole for 2nd band to 2nd band|\n",
    "|Row6|Dipole for 2nd band to 3rd band|\n",
    "|Row7|Dipole for 3rd band to 1st band|\n",
    "|Row8|Dipole for 3rd band to 2nd band|\n",
    "|Row9|Dipole for 3rd band to 3rd band|\n",
    "\n"
   ]
  },
  {
   "cell_type": "markdown",
   "id": "ed4c3f69",
   "metadata": {},
   "source": [
    "You can also use the Mapping Matrix to set the dipole. `Mapping(0,1)` is exactly equal to 1, so that `dipole[Mapping(0,1)]` represent the Row2 of TDM, here the `0` and `1` represent the first and second band."
   ]
  },
  {
   "cell_type": "markdown",
   "id": "5e8e78ae",
   "metadata": {},
   "source": [
    "### Energy Difference and Dephasing Term (DDT)"
   ]
  },
  {
   "cell_type": "markdown",
   "id": "31cce174",
   "metadata": {},
   "source": [
    "This term is $(\\epsilon_{k}^{\\lambda}-\\epsilon_{k}^{\\lambda^{'}}-i\\frac{\\hbar}{T_2})$ in the SBEs. And we calculate it in advance to saving time when solving the PDE. We can simply calculate it from `Ek` and `Mapping` by a loop. Its rule of sequence is same to TDM. The following code is a simple example."
   ]
  },
  {
   "cell_type": "code",
   "execution_count": null,
   "id": "4f2cc9b3",
   "metadata": {},
   "outputs": [],
   "source": [
    "ddt=np.array([k*(0+0j) for i in range(25)])             \n",
    "for i in range(len(Ek)):\n",
    "    for j in range(len(Ek)):\n",
    "        if i==j:\n",
    "            pass\n",
    "        else:\n",
    "            ddt[MP[i,j]]=Ek[j]-Ek[i]-1j/T2"
   ]
  },
  {
   "cell_type": "markdown",
   "id": "5d5d568b",
   "metadata": {},
   "source": [
    "### Coulomb Potential"
   ]
  },
  {
   "cell_type": "markdown",
   "id": "7e9b7bbc",
   "metadata": {},
   "source": [
    "Here we employ the Coulomb interaction as \n",
    "$$V_{k,k^{'}}=V_{0}\\frac{dk}{2\\pi}2K_{0}(|k-k^{'}|)$$\n",
    "where $V_0$ is the strength of the electron-hole interaction, and $K_0$ is the\n",
    "modified Bessel function of the second kind."
   ]
  },
  {
   "cell_type": "markdown",
   "id": "0cd73298",
   "metadata": {},
   "source": [
    "The coulomb matrix could be created by a simple loop."
   ]
  },
  {
   "cell_type": "code",
   "execution_count": null,
   "id": "62ace4ea",
   "metadata": {},
   "outputs": [],
   "source": [
    "Vkq=np.ones((k.size,k.size))*(0+0j)\n",
    "V0=1.8\n",
    "for p in range(k.size):\n",
    "    Vkq[p]=V0*dk/2/pi*2*scipy.special.kn(0,np.abs(k[p]-k))    \n",
    "Vkq[np.diag_indices_from(Vkq)]=0+0j"
   ]
  },
  {
   "cell_type": "markdown",
   "id": "da0f10e9",
   "metadata": {},
   "source": [
    "## SBE class"
   ]
  },
  {
   "cell_type": "markdown",
   "id": "0b266dbe",
   "metadata": {},
   "source": [
    "`SBEg=SBE(d,VB,CB,ddt,dipole,k,E0field,E1field,T2,T1,t,Vkq) `"
   ]
  },
  {
   "cell_type": "markdown",
   "id": "a367e7b0",
   "metadata": {},
   "source": [
    "As shown in above the SBE object have 12 parameters. And their form is shown in the following Table."
   ]
  },
  {
   "cell_type": "markdown",
   "id": "2089254e",
   "metadata": {},
   "source": [
    "|Parameters|Form|\n",
    "|:-:|:-:|\n",
    "|lattice constant:d|constant|\n",
    "|Valence Band:VB|N1 by k matrix|\n",
    "|Conduct Band:CB|N2 by k matrix|\n",
    "|Energy difference and dephasing term:ddt| (N1+N2)^2 by k matrix|\n",
    "|Transition Dipole Moment:Dipole|(N1+N2)^2 by k matrix|\n",
    "|k-points:k| 1 by k matrix|\n",
    "|Electic field 0:E0field| 1 by t matrix|\n",
    "|Electic field 1:E1field| 1 by t matrix|\n",
    "|Coherence Dephasing Time:T2| constant|\n",
    "|Density Dephasing Time:T1| constant|\n",
    "|time:t|1 by t matrix|\n",
    "|Coulomb Potential:Vkq| k by k matrix|"
   ]
  },
  {
   "cell_type": "markdown",
   "id": "c25a2292",
   "metadata": {},
   "source": [
    "### Properties"
   ]
  },
  {
   "cell_type": "markdown",
   "id": "0d2520fc",
   "metadata": {},
   "source": [
    "Besides the above parameters, the SBE class also have many properties which are shown in following table.\n",
    "\n",
    "|Variable name|Meaning|\n",
    "|:-:|:-:|\n",
    "|Vg|Group Velocity of all the energy bands|\n",
    "|Efield|Totol electric field|\n",
    "|freqs|fft of time|\n",
    "|energy|freqs * 2π * 27.21 (eV)|\n",
    "|Pt|Polarization|\n",
    "|Pw|fft of Pt|\n",
    "|SwP| \\|Pw\\|^2||\n",
    "|Jt|Current|\n",
    "|Jw|fft of Jt|\n",
    "|SwJ| \\|Jw\\|^2|\n",
    "|absorption| absorption spectrum|"
   ]
  },
  {
   "cell_type": "markdown",
   "id": "dd41bcfe",
   "metadata": {},
   "source": [
    "All the properties can be call by \n",
    "\n",
    "`SBEg=SBE(d,VB,CB,ddt,dipole,k,E0field,E1field,T2,T1,t,Vkq)`\n",
    "\n",
    "`SBEg.xxxx  (xxxx=properties' name)`"
   ]
  },
  {
   "cell_type": "markdown",
   "id": "ef8acc33",
   "metadata": {},
   "source": [
    "### Solving the PDE"
   ]
  },
  {
   "cell_type": "markdown",
   "id": "8e252633",
   "metadata": {},
   "source": [
    "After create a new SBE object, one should use `SBEg.solve()` to solve the PDE."
   ]
  },
  {
   "cell_type": "code",
   "execution_count": null,
   "id": "b8ceee96",
   "metadata": {},
   "outputs": [],
   "source": [
    "    def solve(self):\n",
    "        self.hindex=np.linspace(0, self.fhN-1,self.fhN,dtype=int)                         #set hole/valence band index\n",
    "        self.eindex=np.linspace(self.fhN, self.feN+self.fhN-1,self.feN,dtype=int)         #set electron/conduct band index\n",
    "        self.parameter1=(self.bandN,self.kN,self.T1,self.dk)                              #put all the constant parameter in a tuple\n",
    "        self.parameter2=(self.time,self.Efield,self.dipole,self.ddt,self.MP,self.Vkq,self.k,self.hindex,self.eindex) #put all the array constant in a tuple\n",
    "        self.sol=solve_ivp(finiteSBE, (self.time[0],self.time[-1]),self.y0, t_eval=self.time,atol=1e-10,rtol=1e-12,args=(self.parameter1,self.parameter2) #use solve_ivp to solve the PDE, change the atol and rtol to control the accuracy"
   ]
  },
  {
   "cell_type": "markdown",
   "id": "433e4be5",
   "metadata": {},
   "source": [
    "The details of the SBE PDE is in `finiteSBE.py`, and it use the `numba.njit` to compile the derivative equations function to machine code.  "
   ]
  },
  {
   "cell_type": "markdown",
   "id": "7e0c46be",
   "metadata": {},
   "source": [
    "### Calculating the result"
   ]
  },
  {
   "cell_type": "markdown",
   "id": "70b4f7ce",
   "metadata": {},
   "source": [
    "After solve the PDE, you should use `SBEg.calculate(filter)` to calculate the P(t),J(t),d(t),P(ω)，J(ω),d(ω), and absorption spectrum.\n"
   ]
  },
  {
   "cell_type": "code",
   "execution_count": null,
   "id": "022db5ee",
   "metadata": {},
   "outputs": [],
   "source": [
    "    def calculate(self,Filter):\n",
    "        y=self.sol.y.T                                            \n",
    "        self.Pt=np.zeros(self.sol.t.size,dtype=complex)\n",
    "        self.Jt=np.zeros(self.sol.t.size,dtype=complex)\n",
    "        self.fkt=np.zeros((self.sol.t.size,self.bandN*self.kN),dtype=complex)\n",
    "        self.pkt=np.zeros((self.sol.t.size,self.bandN**2*self.kN),dtype=complex)\n",
    "        for i in range(len(self.sol.t)):\n",
    "            yi=np.reshape(y[i],(self.bandN**2+self.bandN,self.kN))\n",
    "            pk=yi[0:self.bandN**2]\n",
    "            fk=yi[self.bandN**2:]\n",
    "            self.Pt[i]=np.real(np.sum(np.sum(self.dipole*pk,1)))\n",
    "            #self.Pt[i]=np.sum(np.sum(self.dipole*pk,1))\n",
    "            self.Jt[i]=np.real(np.sum(np.sum(self.Vg*fk,1)))\n",
    "            #self.Jt[i]=np.sum(np.sum(self.Vg*fk,1))\n",
    "            self.pkt[i]=pk.reshape(pk.size)\n",
    "            self.fkt[i]=fk.reshape(fk.size)\n",
    "        self.Pw=fftshift((fft(self.Pt*Filter)))\n",
    "        self.Jw=fftshift((fft(self.Jt*Filter)))\n",
    "        self.SwP=np.abs(self.Pw)**2\n",
    "        self.SwJ=np.abs(self.Jw)**2\n",
    "        self.dt=difft(self.Pt,self.time)+self.Jt\n",
    "        self.dw=fftshift((fft(self.dt*Filter)))\n",
    "        self.Sw=np.abs(self.dw)**2\n",
    "        self.Ew=fftshift(fft(self.E0))\n",
    "        self.absorption=self.freqs*np.imag(self.Pw/self.Ew)"
   ]
  },
  {
   "cell_type": "markdown",
   "id": "fa84fefa",
   "metadata": {},
   "source": [
    "### Plot the result"
   ]
  },
  {
   "cell_type": "markdown",
   "id": "062f74f3",
   "metadata": {},
   "source": [
    "The SBE class provide several method to help you plot your result."
   ]
  },
  {
   "cell_type": "code",
   "execution_count": null,
   "id": "409d9930",
   "metadata": {},
   "outputs": [],
   "source": [
    "    def showEfield(self,rangex): #plot the electric field\n",
    "        plt.figure(1)\n",
    "        plt.subplot(2,1,1)\n",
    "        plt.plot(self.time/41,self.Efield)\n",
    "        plt.title('Electricfield')\n",
    "        plt.ylabel('A.U.')\n",
    "        plt.xlabel('Time(fs)')\n",
    "        plt.subplot(2,1,2)\n",
    "        plt.plot(self.freqs*2*pi*27.21,np.abs(fftshift(fft(self.Efield))))\n",
    "        plt.xlabel('eV')\n",
    "        plt.xlim(rangex[0],rangex[1])\n",
    "        plt.show()"
   ]
  },
  {
   "cell_type": "code",
   "execution_count": null,
   "id": "92ddcc8f",
   "metadata": {},
   "outputs": [],
   "source": [
    "    def showEnergy(self): #plot the bandstructure\n",
    "        plt.figure()\n",
    "        Matplot(self.Ek*27.21,self.k/pi*self.d)\n",
    "        plt.title('Bandstructure')\n",
    "        plt.xlabel('k(π/d)')\n",
    "        plt.ylabel('energy(eV)')\n",
    "        plt.figure()\n",
    "        Matplot(self.Vg,self.k/pi*self.d)\n",
    "        plt.title('Group Velocity')\n",
    "        plt.ylabel('A.U.')\n",
    "        plt.xlabel('k(π/d)')\n",
    "        plt.show()"
   ]
  },
  {
   "cell_type": "code",
   "execution_count": null,
   "id": "cc3c275f",
   "metadata": {},
   "outputs": [],
   "source": [
    "    def plotelectrondensity(self,n,rangex):\n",
    "        plt.figure(2)\n",
    "        self.fkn=(self.fkt.T)[n*self.kN:(n+1)*self.kN]\n",
    "        T,K=np.meshgrid(self.time,self.k)\n",
    "        plt.contourf(T/41,K,self.fkn,cmap=cm.jet,levels=2**7);\n",
    "        plt.ylabel('k')\n",
    "        plt.xlabel('Time(fs)')\n",
    "        plt.xlim(rangex[0],rangex[1])\n",
    "        plt.colorbar()\n",
    "        plt.show()"
   ]
  },
  {
   "cell_type": "code",
   "execution_count": null,
   "id": "5d827a86",
   "metadata": {},
   "outputs": [],
   "source": [
    "    def plotcoherence(self,n,rangex):\n",
    "        plt.figure(3)\n",
    "        self.pkn=(self.pkt.T)[n*self.kN:(n+1)*self.kN]\n",
    "        T,K=np.meshgrid(self.time,self.k)\n",
    "        plt.contourf(T/41,K,self.pkn,cmap=cm.jet,levels=2**7);\n",
    "        plt.ylabel('k')\n",
    "        plt.xlabel('Time(fs)')\n",
    "        plt.xlim(rangex[0],rangex[1])\n",
    "        plt.colorbar()\n",
    "        plt.show() "
   ]
  },
  {
   "cell_type": "code",
   "execution_count": null,
   "id": "4e52bc29",
   "metadata": {},
   "outputs": [],
   "source": [
    "    def plotemission(self,rangex):\n",
    "        plt.figure(3)\n",
    "        plt.subplot(2,2,1)\n",
    "        plt.plot(self.sol.t/41,self.Jt)\n",
    "        plt.title(\"current\")\n",
    "        plt.xlabel(\"Time(fs)\")\n",
    "        plt.subplot(2,2,2)\n",
    "        plt.plot(self.sol.t/41,self.Pt)\n",
    "        plt.title(\"polarization\")\n",
    "        plt.xlabel(\"Time(fs)\")\n",
    "        plt.subplot(2,2,3)\n",
    "        plt.semilogy(self.energy,self.SwJ)\n",
    "        plt.xlim(rangex[0],rangex[1])\n",
    "        plt.subplot(2,2,4)\n",
    "        plt.semilogy(self.energy,self.SwP)\n",
    "        plt.xlim(rangex[0],rangex[1])\n",
    "        plt.legend()\n",
    "        plt.show()"
   ]
  },
  {
   "cell_type": "code",
   "execution_count": null,
   "id": "d2186163",
   "metadata": {},
   "outputs": [],
   "source": [
    "    def plotabsorption(self,rangex,rangey):\n",
    "        plt.figure(4)\n",
    "        plt.plot(self.freqs*2*pi*27.21,self.absorption)\n",
    "        plt.xlim(rangex[0],rangex[1])\n",
    "        plt.ylim(rangey[0],rangey[1])\n",
    "        plt.show()"
   ]
  },
  {
   "cell_type": "markdown",
   "id": "773fc493",
   "metadata": {},
   "source": [
    "## Delay/CEP Scan"
   ]
  },
  {
   "cell_type": "markdown",
   "id": "f218b36b",
   "metadata": {},
   "source": [
    "Here I provide a example for delay scan."
   ]
  },
  {
   "cell_type": "code",
   "execution_count": null,
   "id": "ddcee90c",
   "metadata": {},
   "outputs": [],
   "source": [
    "scanod=[]\n",
    "delaytime=np.linspace(-2,5.5,21)*41\n",
    "for delay in delaytime:\n",
    "    w1=108/27.21\n",
    "    w2=0.075\n",
    "    tau=41*0.2*sqrt(2)\n",
    "    fi=0\n",
    "    E0=2e8 #V/cm\n",
    "    E0field=np.exp(-4*np.log(2)*((t-41*6)/tau)**2)*np.cos(w1*(t-41*6)+fi)/5.14e11*E0\n",
    "    tau1=41*1*sqrt(2)\n",
    "    E1=1e10\n",
    "    E1field=np.exp(-4*np.log(2)*((t-41*6-delay)/tau1)**2)*np.cos(w2*(t-41*6-delay)+fi)/5.14e11*E1\n",
    "    SBE1=SBE(d,VB,CB,ddt,dipole,k,E0field,E1field,T2,T1,t,Vkq)  #set the SBE parameters\n",
    "    SBE1.solve()         #solve the PDE cost about 40s\n",
    "    SBE1.calculate(gauss)  # calculate the Pt,Jt,Pw,Jw\n",
    "    SBE1.plotemission((0,20))  # plot the spectrum\n",
    "    SBE1.plotabsorption((104,112),(0,-100))\n",
    "    scanod.append(SBE1.absorption)\n",
    "scanod=np.array(scanod)\n",
    "plt.figure(5)\n",
    "T,K=np.meshgrid(delaytime,SBE1.freqs)\n",
    "plt.contourf(T/41,K*2*pi*27.21,np.log(-1*scanod.T),cmap=cm.jet,levels=np.linspace(1,6,2**7))   # please import cm from matplotlib\n",
    "plt.ylim(102,112)\n",
    "plt.colorbar() "
   ]
  }
 ],
 "metadata": {
  "kernelspec": {
   "display_name": "Python 3 (ipykernel)",
   "language": "python",
   "name": "python3"
  },
  "language_info": {
   "codemirror_mode": {
    "name": "ipython",
    "version": 3
   },
   "file_extension": ".py",
   "mimetype": "text/x-python",
   "name": "python",
   "nbconvert_exporter": "python",
   "pygments_lexer": "ipython3",
   "version": "3.9.13"
  },
  "vscode": {
   "interpreter": {
    "hash": "2948b9f16bf59f166a71b789c77398cb4e2cb3f0aeae5207acea975c6bb116e0"
   }
  }
 },
 "nbformat": 4,
 "nbformat_minor": 5
}
